{
  "nbformat": 4,
  "nbformat_minor": 0,
  "metadata": {
    "colab": {
      "name": "Individual_classification_Notebook.ipynb",
      "provenance": [],
      "collapsed_sections": [],
      "mount_file_id": "1eGKMWWJuTkqJAuDaHAhKDwkYSNz9ndGd",
      "authorship_tag": "ABX9TyPtL81yAU+mNOUw3HmXCgRI",
      "include_colab_link": true
    },
    "kernelspec": {
      "name": "python3",
      "display_name": "Python 3"
    },
    "language_info": {
      "name": "python"
    }
  },
  "cells": [
    {
      "cell_type": "markdown",
      "metadata": {
        "id": "view-in-github",
        "colab_type": "text"
      },
      "source": [
        "<a href=\"https://colab.research.google.com/github/Jaiharish-passion07/Third_Classification_capstone_project/blob/master/Individual_classification_Notebook.ipynb\" target=\"_parent\"><img src=\"https://colab.research.google.com/assets/colab-badge.svg\" alt=\"Open In Colab\"/></a>"
      ]
    },
    {
      "cell_type": "code",
      "execution_count": null,
      "metadata": {
        "colab": {
          "base_uri": "https://localhost:8080/"
        },
        "id": "VcVyqiaHUFiZ",
        "outputId": "f0127d39-9ce0-41c6-b2bc-1efecaad37a6"
      },
      "outputs": [
        {
          "output_type": "stream",
          "name": "stdout",
          "text": [
            "Drive already mounted at /content/drive; to attempt to forcibly remount, call drive.mount(\"/content/drive\", force_remount=True).\n"
          ]
        }
      ],
      "source": [
        "# mouting the drive\n",
        "from google.colab import drive\n",
        "drive.mount('/content/drive')"
      ]
    },
    {
      "cell_type": "code",
      "source": [
        "# Importing the libraries\n",
        "import numpy as np\n",
        "import pandas as pd\n",
        "from numpy import math\n",
        "import matplotlib.pyplot as plt\n",
        "import seaborn as sns\n",
        "import scipy.stats as stat\n",
        "from scipy import stats\n",
        "import pylab\n",
        "import time\n",
        "from datetime import timedelta\n",
        "from statsmodels.stats.outliers_influence import variance_inflation_factor\n",
        "import warnings\n",
        "warnings.filterwarnings(action='ignore')\n",
        "%matplotlib inline"
      ],
      "metadata": {
        "colab": {
          "base_uri": "https://localhost:8080/"
        },
        "id": "q2vXTg8NUcTO",
        "outputId": "70c74ff4-cd07-4297-8799-83559227a3d5"
      },
      "execution_count": 1,
      "outputs": [
        {
          "output_type": "stream",
          "name": "stderr",
          "text": [
            "/usr/local/lib/python3.7/dist-packages/statsmodels/tools/_testing.py:19: FutureWarning: pandas.util.testing is deprecated. Use the functions in the public API at pandas.testing instead.\n",
            "  import pandas.util.testing as tm\n"
          ]
        }
      ]
    },
    {
      "cell_type": "code",
      "source": [
        "#All Machine learning Models are imported here\n",
        "from sklearn.model_selection import train_test_split\n",
        "from sklearn.linear_model import LogisticRegression\n",
        "from sklearn.metrics import accuracy_score, confusion_matrix,precision_score,recall_score,roc_auc_score\n",
        "from sklearn.tree import DecisionTreeClassifier\n",
        "from sklearn.model_selection import GridSearchCV\n",
        "from sklearn.ensemble import RandomForestClassifier\n",
        "from sklearn.ensemble import GradientBoostingClassifier"
      ],
      "metadata": {
        "id": "-OYeripNUd94"
      },
      "execution_count": 2,
      "outputs": []
    },
    {
      "cell_type": "code",
      "source": [
        "#Loading the data\n",
        "df=pd.read_excel('/content/drive/MyDrive/Classification Project/data_airline_reviews.xlsx')"
      ],
      "metadata": {
        "id": "8L1CiNazUgV4"
      },
      "execution_count": 3,
      "outputs": []
    },
    {
      "cell_type": "code",
      "source": [
        "df_clean=df.loc[~df.isnull().all(axis=1),:]"
      ],
      "metadata": {
        "id": "JGd6FbuuUiu7"
      },
      "execution_count": 4,
      "outputs": []
    },
    {
      "cell_type": "code",
      "source": [
        "#Shape of Cleaned data\n",
        "df_clean.shape"
      ],
      "metadata": {
        "colab": {
          "base_uri": "https://localhost:8080/"
        },
        "id": "0XZqb7rpPA8T",
        "outputId": "373b4ee0-3051-4ee2-d220-274f7f6f7a07"
      },
      "execution_count": 5,
      "outputs": [
        {
          "output_type": "execute_result",
          "data": {
            "text/plain": [
              "(65947, 17)"
            ]
          },
          "metadata": {},
          "execution_count": 5
        }
      ]
    },
    {
      "cell_type": "code",
      "source": [
        "#Head of Data\n",
        "df_clean.head()"
      ],
      "metadata": {
        "colab": {
          "base_uri": "https://localhost:8080/",
          "height": 443
        },
        "id": "blhdwluyUlSK",
        "outputId": "136fc463-866d-4c9b-9f17-25f67e4062c9"
      },
      "execution_count": 6,
      "outputs": [
        {
          "output_type": "execute_result",
          "data": {
            "text/html": [
              "\n",
              "  <div id=\"df-a6a2ee42-4461-4744-81ab-037543e1613a\">\n",
              "    <div class=\"colab-df-container\">\n",
              "      <div>\n",
              "<style scoped>\n",
              "    .dataframe tbody tr th:only-of-type {\n",
              "        vertical-align: middle;\n",
              "    }\n",
              "\n",
              "    .dataframe tbody tr th {\n",
              "        vertical-align: top;\n",
              "    }\n",
              "\n",
              "    .dataframe thead th {\n",
              "        text-align: right;\n",
              "    }\n",
              "</style>\n",
              "<table border=\"1\" class=\"dataframe\">\n",
              "  <thead>\n",
              "    <tr style=\"text-align: right;\">\n",
              "      <th></th>\n",
              "      <th>airline</th>\n",
              "      <th>overall</th>\n",
              "      <th>author</th>\n",
              "      <th>review_date</th>\n",
              "      <th>customer_review</th>\n",
              "      <th>aircraft</th>\n",
              "      <th>traveller_type</th>\n",
              "      <th>cabin</th>\n",
              "      <th>route</th>\n",
              "      <th>date_flown</th>\n",
              "      <th>seat_comfort</th>\n",
              "      <th>cabin_service</th>\n",
              "      <th>food_bev</th>\n",
              "      <th>entertainment</th>\n",
              "      <th>ground_service</th>\n",
              "      <th>value_for_money</th>\n",
              "      <th>recommended</th>\n",
              "    </tr>\n",
              "  </thead>\n",
              "  <tbody>\n",
              "    <tr>\n",
              "      <th>1</th>\n",
              "      <td>Turkish Airlines</td>\n",
              "      <td>7.0</td>\n",
              "      <td>Christopher Hackley</td>\n",
              "      <td>8th May 2019</td>\n",
              "      <td>âœ… Trip Verified | London to Izmir via Istanb...</td>\n",
              "      <td>NaN</td>\n",
              "      <td>Business</td>\n",
              "      <td>Economy Class</td>\n",
              "      <td>London to Izmir via Istanbul</td>\n",
              "      <td>2019-05-01 00:00:00</td>\n",
              "      <td>4.0</td>\n",
              "      <td>5.0</td>\n",
              "      <td>4.0</td>\n",
              "      <td>4.0</td>\n",
              "      <td>2.0</td>\n",
              "      <td>4.0</td>\n",
              "      <td>yes</td>\n",
              "    </tr>\n",
              "    <tr>\n",
              "      <th>3</th>\n",
              "      <td>Turkish Airlines</td>\n",
              "      <td>2.0</td>\n",
              "      <td>Adriana Pisoi</td>\n",
              "      <td>7th May 2019</td>\n",
              "      <td>âœ… Trip Verified | Istanbul to Bucharest. We ...</td>\n",
              "      <td>NaN</td>\n",
              "      <td>Family Leisure</td>\n",
              "      <td>Economy Class</td>\n",
              "      <td>Istanbul to Bucharest</td>\n",
              "      <td>2019-05-01 00:00:00</td>\n",
              "      <td>4.0</td>\n",
              "      <td>1.0</td>\n",
              "      <td>1.0</td>\n",
              "      <td>1.0</td>\n",
              "      <td>1.0</td>\n",
              "      <td>1.0</td>\n",
              "      <td>no</td>\n",
              "    </tr>\n",
              "    <tr>\n",
              "      <th>5</th>\n",
              "      <td>Turkish Airlines</td>\n",
              "      <td>3.0</td>\n",
              "      <td>M Galerko</td>\n",
              "      <td>7th May 2019</td>\n",
              "      <td>âœ… Trip Verified | Rome to Prishtina via Ista...</td>\n",
              "      <td>NaN</td>\n",
              "      <td>Business</td>\n",
              "      <td>Economy Class</td>\n",
              "      <td>Rome to Prishtina via Istanbul</td>\n",
              "      <td>2019-05-01 00:00:00</td>\n",
              "      <td>1.0</td>\n",
              "      <td>4.0</td>\n",
              "      <td>1.0</td>\n",
              "      <td>3.0</td>\n",
              "      <td>1.0</td>\n",
              "      <td>2.0</td>\n",
              "      <td>no</td>\n",
              "    </tr>\n",
              "    <tr>\n",
              "      <th>7</th>\n",
              "      <td>Turkish Airlines</td>\n",
              "      <td>10.0</td>\n",
              "      <td>Zeshan Shah</td>\n",
              "      <td>6th May 2019</td>\n",
              "      <td>âœ… Trip Verified | Flew on Turkish Airlines I...</td>\n",
              "      <td>A330</td>\n",
              "      <td>Solo Leisure</td>\n",
              "      <td>Economy Class</td>\n",
              "      <td>Washington Dulles to Karachi</td>\n",
              "      <td>April 2019</td>\n",
              "      <td>4.0</td>\n",
              "      <td>5.0</td>\n",
              "      <td>5.0</td>\n",
              "      <td>5.0</td>\n",
              "      <td>5.0</td>\n",
              "      <td>5.0</td>\n",
              "      <td>yes</td>\n",
              "    </tr>\n",
              "    <tr>\n",
              "      <th>9</th>\n",
              "      <td>Turkish Airlines</td>\n",
              "      <td>1.0</td>\n",
              "      <td>Pooja Jain</td>\n",
              "      <td>6th May 2019</td>\n",
              "      <td>âœ… Trip Verified | Mumbai to Dublin via Istan...</td>\n",
              "      <td>NaN</td>\n",
              "      <td>Solo Leisure</td>\n",
              "      <td>Economy Class</td>\n",
              "      <td>Mumbai to Dublin via Istanbul</td>\n",
              "      <td>2019-05-01 00:00:00</td>\n",
              "      <td>1.0</td>\n",
              "      <td>1.0</td>\n",
              "      <td>1.0</td>\n",
              "      <td>1.0</td>\n",
              "      <td>1.0</td>\n",
              "      <td>1.0</td>\n",
              "      <td>no</td>\n",
              "    </tr>\n",
              "  </tbody>\n",
              "</table>\n",
              "</div>\n",
              "      <button class=\"colab-df-convert\" onclick=\"convertToInteractive('df-a6a2ee42-4461-4744-81ab-037543e1613a')\"\n",
              "              title=\"Convert this dataframe to an interactive table.\"\n",
              "              style=\"display:none;\">\n",
              "        \n",
              "  <svg xmlns=\"http://www.w3.org/2000/svg\" height=\"24px\"viewBox=\"0 0 24 24\"\n",
              "       width=\"24px\">\n",
              "    <path d=\"M0 0h24v24H0V0z\" fill=\"none\"/>\n",
              "    <path d=\"M18.56 5.44l.94 2.06.94-2.06 2.06-.94-2.06-.94-.94-2.06-.94 2.06-2.06.94zm-11 1L8.5 8.5l.94-2.06 2.06-.94-2.06-.94L8.5 2.5l-.94 2.06-2.06.94zm10 10l.94 2.06.94-2.06 2.06-.94-2.06-.94-.94-2.06-.94 2.06-2.06.94z\"/><path d=\"M17.41 7.96l-1.37-1.37c-.4-.4-.92-.59-1.43-.59-.52 0-1.04.2-1.43.59L10.3 9.45l-7.72 7.72c-.78.78-.78 2.05 0 2.83L4 21.41c.39.39.9.59 1.41.59.51 0 1.02-.2 1.41-.59l7.78-7.78 2.81-2.81c.8-.78.8-2.07 0-2.86zM5.41 20L4 18.59l7.72-7.72 1.47 1.35L5.41 20z\"/>\n",
              "  </svg>\n",
              "      </button>\n",
              "      \n",
              "  <style>\n",
              "    .colab-df-container {\n",
              "      display:flex;\n",
              "      flex-wrap:wrap;\n",
              "      gap: 12px;\n",
              "    }\n",
              "\n",
              "    .colab-df-convert {\n",
              "      background-color: #E8F0FE;\n",
              "      border: none;\n",
              "      border-radius: 50%;\n",
              "      cursor: pointer;\n",
              "      display: none;\n",
              "      fill: #1967D2;\n",
              "      height: 32px;\n",
              "      padding: 0 0 0 0;\n",
              "      width: 32px;\n",
              "    }\n",
              "\n",
              "    .colab-df-convert:hover {\n",
              "      background-color: #E2EBFA;\n",
              "      box-shadow: 0px 1px 2px rgba(60, 64, 67, 0.3), 0px 1px 3px 1px rgba(60, 64, 67, 0.15);\n",
              "      fill: #174EA6;\n",
              "    }\n",
              "\n",
              "    [theme=dark] .colab-df-convert {\n",
              "      background-color: #3B4455;\n",
              "      fill: #D2E3FC;\n",
              "    }\n",
              "\n",
              "    [theme=dark] .colab-df-convert:hover {\n",
              "      background-color: #434B5C;\n",
              "      box-shadow: 0px 1px 3px 1px rgba(0, 0, 0, 0.15);\n",
              "      filter: drop-shadow(0px 1px 2px rgba(0, 0, 0, 0.3));\n",
              "      fill: #FFFFFF;\n",
              "    }\n",
              "  </style>\n",
              "\n",
              "      <script>\n",
              "        const buttonEl =\n",
              "          document.querySelector('#df-a6a2ee42-4461-4744-81ab-037543e1613a button.colab-df-convert');\n",
              "        buttonEl.style.display =\n",
              "          google.colab.kernel.accessAllowed ? 'block' : 'none';\n",
              "\n",
              "        async function convertToInteractive(key) {\n",
              "          const element = document.querySelector('#df-a6a2ee42-4461-4744-81ab-037543e1613a');\n",
              "          const dataTable =\n",
              "            await google.colab.kernel.invokeFunction('convertToInteractive',\n",
              "                                                     [key], {});\n",
              "          if (!dataTable) return;\n",
              "\n",
              "          const docLinkHtml = 'Like what you see? Visit the ' +\n",
              "            '<a target=\"_blank\" href=https://colab.research.google.com/notebooks/data_table.ipynb>data table notebook</a>'\n",
              "            + ' to learn more about interactive tables.';\n",
              "          element.innerHTML = '';\n",
              "          dataTable['output_type'] = 'display_data';\n",
              "          await google.colab.output.renderOutput(dataTable, element);\n",
              "          const docLink = document.createElement('div');\n",
              "          docLink.innerHTML = docLinkHtml;\n",
              "          element.appendChild(docLink);\n",
              "        }\n",
              "      </script>\n",
              "    </div>\n",
              "  </div>\n",
              "  "
            ],
            "text/plain": [
              "            airline  overall  ... value_for_money recommended\n",
              "1  Turkish Airlines      7.0  ...             4.0         yes\n",
              "3  Turkish Airlines      2.0  ...             1.0          no\n",
              "5  Turkish Airlines      3.0  ...             2.0          no\n",
              "7  Turkish Airlines     10.0  ...             5.0         yes\n",
              "9  Turkish Airlines      1.0  ...             1.0          no\n",
              "\n",
              "[5 rows x 17 columns]"
            ]
          },
          "metadata": {},
          "execution_count": 6
        }
      ]
    },
    {
      "cell_type": "code",
      "source": [
        "#Statistical information about data\n",
        "df_clean.describe()"
      ],
      "metadata": {
        "colab": {
          "base_uri": "https://localhost:8080/",
          "height": 300
        },
        "id": "TmY3ZSqOUntC",
        "outputId": "228459a1-9a15-4b5e-9f2e-2d53cded311b"
      },
      "execution_count": 7,
      "outputs": [
        {
          "output_type": "execute_result",
          "data": {
            "text/html": [
              "\n",
              "  <div id=\"df-c13cd3b9-c8d8-41c0-af83-63e21a78b227\">\n",
              "    <div class=\"colab-df-container\">\n",
              "      <div>\n",
              "<style scoped>\n",
              "    .dataframe tbody tr th:only-of-type {\n",
              "        vertical-align: middle;\n",
              "    }\n",
              "\n",
              "    .dataframe tbody tr th {\n",
              "        vertical-align: top;\n",
              "    }\n",
              "\n",
              "    .dataframe thead th {\n",
              "        text-align: right;\n",
              "    }\n",
              "</style>\n",
              "<table border=\"1\" class=\"dataframe\">\n",
              "  <thead>\n",
              "    <tr style=\"text-align: right;\">\n",
              "      <th></th>\n",
              "      <th>overall</th>\n",
              "      <th>seat_comfort</th>\n",
              "      <th>cabin_service</th>\n",
              "      <th>food_bev</th>\n",
              "      <th>entertainment</th>\n",
              "      <th>ground_service</th>\n",
              "      <th>value_for_money</th>\n",
              "    </tr>\n",
              "  </thead>\n",
              "  <tbody>\n",
              "    <tr>\n",
              "      <th>count</th>\n",
              "      <td>64017.000000</td>\n",
              "      <td>60681.000000</td>\n",
              "      <td>60715.000000</td>\n",
              "      <td>52608.000000</td>\n",
              "      <td>44193.000000</td>\n",
              "      <td>39358.000000</td>\n",
              "      <td>63975.000000</td>\n",
              "    </tr>\n",
              "    <tr>\n",
              "      <th>mean</th>\n",
              "      <td>5.145430</td>\n",
              "      <td>2.952160</td>\n",
              "      <td>3.191814</td>\n",
              "      <td>2.908170</td>\n",
              "      <td>2.863372</td>\n",
              "      <td>2.692820</td>\n",
              "      <td>2.943962</td>\n",
              "    </tr>\n",
              "    <tr>\n",
              "      <th>std</th>\n",
              "      <td>3.477532</td>\n",
              "      <td>1.441362</td>\n",
              "      <td>1.565789</td>\n",
              "      <td>1.481893</td>\n",
              "      <td>1.507262</td>\n",
              "      <td>1.612215</td>\n",
              "      <td>1.587370</td>\n",
              "    </tr>\n",
              "    <tr>\n",
              "      <th>min</th>\n",
              "      <td>1.000000</td>\n",
              "      <td>1.000000</td>\n",
              "      <td>1.000000</td>\n",
              "      <td>1.000000</td>\n",
              "      <td>1.000000</td>\n",
              "      <td>1.000000</td>\n",
              "      <td>1.000000</td>\n",
              "    </tr>\n",
              "    <tr>\n",
              "      <th>25%</th>\n",
              "      <td>1.000000</td>\n",
              "      <td>1.000000</td>\n",
              "      <td>2.000000</td>\n",
              "      <td>1.000000</td>\n",
              "      <td>1.000000</td>\n",
              "      <td>1.000000</td>\n",
              "      <td>1.000000</td>\n",
              "    </tr>\n",
              "    <tr>\n",
              "      <th>50%</th>\n",
              "      <td>5.000000</td>\n",
              "      <td>3.000000</td>\n",
              "      <td>3.000000</td>\n",
              "      <td>3.000000</td>\n",
              "      <td>3.000000</td>\n",
              "      <td>3.000000</td>\n",
              "      <td>3.000000</td>\n",
              "    </tr>\n",
              "    <tr>\n",
              "      <th>75%</th>\n",
              "      <td>9.000000</td>\n",
              "      <td>4.000000</td>\n",
              "      <td>5.000000</td>\n",
              "      <td>4.000000</td>\n",
              "      <td>4.000000</td>\n",
              "      <td>4.000000</td>\n",
              "      <td>4.000000</td>\n",
              "    </tr>\n",
              "    <tr>\n",
              "      <th>max</th>\n",
              "      <td>10.000000</td>\n",
              "      <td>5.000000</td>\n",
              "      <td>5.000000</td>\n",
              "      <td>5.000000</td>\n",
              "      <td>5.000000</td>\n",
              "      <td>5.000000</td>\n",
              "      <td>5.000000</td>\n",
              "    </tr>\n",
              "  </tbody>\n",
              "</table>\n",
              "</div>\n",
              "      <button class=\"colab-df-convert\" onclick=\"convertToInteractive('df-c13cd3b9-c8d8-41c0-af83-63e21a78b227')\"\n",
              "              title=\"Convert this dataframe to an interactive table.\"\n",
              "              style=\"display:none;\">\n",
              "        \n",
              "  <svg xmlns=\"http://www.w3.org/2000/svg\" height=\"24px\"viewBox=\"0 0 24 24\"\n",
              "       width=\"24px\">\n",
              "    <path d=\"M0 0h24v24H0V0z\" fill=\"none\"/>\n",
              "    <path d=\"M18.56 5.44l.94 2.06.94-2.06 2.06-.94-2.06-.94-.94-2.06-.94 2.06-2.06.94zm-11 1L8.5 8.5l.94-2.06 2.06-.94-2.06-.94L8.5 2.5l-.94 2.06-2.06.94zm10 10l.94 2.06.94-2.06 2.06-.94-2.06-.94-.94-2.06-.94 2.06-2.06.94z\"/><path d=\"M17.41 7.96l-1.37-1.37c-.4-.4-.92-.59-1.43-.59-.52 0-1.04.2-1.43.59L10.3 9.45l-7.72 7.72c-.78.78-.78 2.05 0 2.83L4 21.41c.39.39.9.59 1.41.59.51 0 1.02-.2 1.41-.59l7.78-7.78 2.81-2.81c.8-.78.8-2.07 0-2.86zM5.41 20L4 18.59l7.72-7.72 1.47 1.35L5.41 20z\"/>\n",
              "  </svg>\n",
              "      </button>\n",
              "      \n",
              "  <style>\n",
              "    .colab-df-container {\n",
              "      display:flex;\n",
              "      flex-wrap:wrap;\n",
              "      gap: 12px;\n",
              "    }\n",
              "\n",
              "    .colab-df-convert {\n",
              "      background-color: #E8F0FE;\n",
              "      border: none;\n",
              "      border-radius: 50%;\n",
              "      cursor: pointer;\n",
              "      display: none;\n",
              "      fill: #1967D2;\n",
              "      height: 32px;\n",
              "      padding: 0 0 0 0;\n",
              "      width: 32px;\n",
              "    }\n",
              "\n",
              "    .colab-df-convert:hover {\n",
              "      background-color: #E2EBFA;\n",
              "      box-shadow: 0px 1px 2px rgba(60, 64, 67, 0.3), 0px 1px 3px 1px rgba(60, 64, 67, 0.15);\n",
              "      fill: #174EA6;\n",
              "    }\n",
              "\n",
              "    [theme=dark] .colab-df-convert {\n",
              "      background-color: #3B4455;\n",
              "      fill: #D2E3FC;\n",
              "    }\n",
              "\n",
              "    [theme=dark] .colab-df-convert:hover {\n",
              "      background-color: #434B5C;\n",
              "      box-shadow: 0px 1px 3px 1px rgba(0, 0, 0, 0.15);\n",
              "      filter: drop-shadow(0px 1px 2px rgba(0, 0, 0, 0.3));\n",
              "      fill: #FFFFFF;\n",
              "    }\n",
              "  </style>\n",
              "\n",
              "      <script>\n",
              "        const buttonEl =\n",
              "          document.querySelector('#df-c13cd3b9-c8d8-41c0-af83-63e21a78b227 button.colab-df-convert');\n",
              "        buttonEl.style.display =\n",
              "          google.colab.kernel.accessAllowed ? 'block' : 'none';\n",
              "\n",
              "        async function convertToInteractive(key) {\n",
              "          const element = document.querySelector('#df-c13cd3b9-c8d8-41c0-af83-63e21a78b227');\n",
              "          const dataTable =\n",
              "            await google.colab.kernel.invokeFunction('convertToInteractive',\n",
              "                                                     [key], {});\n",
              "          if (!dataTable) return;\n",
              "\n",
              "          const docLinkHtml = 'Like what you see? Visit the ' +\n",
              "            '<a target=\"_blank\" href=https://colab.research.google.com/notebooks/data_table.ipynb>data table notebook</a>'\n",
              "            + ' to learn more about interactive tables.';\n",
              "          element.innerHTML = '';\n",
              "          dataTable['output_type'] = 'display_data';\n",
              "          await google.colab.output.renderOutput(dataTable, element);\n",
              "          const docLink = document.createElement('div');\n",
              "          docLink.innerHTML = docLinkHtml;\n",
              "          element.appendChild(docLink);\n",
              "        }\n",
              "      </script>\n",
              "    </div>\n",
              "  </div>\n",
              "  "
            ],
            "text/plain": [
              "            overall  seat_comfort  ...  ground_service  value_for_money\n",
              "count  64017.000000  60681.000000  ...    39358.000000     63975.000000\n",
              "mean       5.145430      2.952160  ...        2.692820         2.943962\n",
              "std        3.477532      1.441362  ...        1.612215         1.587370\n",
              "min        1.000000      1.000000  ...        1.000000         1.000000\n",
              "25%        1.000000      1.000000  ...        1.000000         1.000000\n",
              "50%        5.000000      3.000000  ...        3.000000         3.000000\n",
              "75%        9.000000      4.000000  ...        4.000000         4.000000\n",
              "max       10.000000      5.000000  ...        5.000000         5.000000\n",
              "\n",
              "[8 rows x 7 columns]"
            ]
          },
          "metadata": {},
          "execution_count": 7
        }
      ]
    },
    {
      "cell_type": "code",
      "source": [
        "#Remove Unwanted Column\n",
        "airline_df=df_clean.drop(['airline','author','review_date','route','date_flown','customer_review'],axis = 1)\n",
        "airline_df.head()"
      ],
      "metadata": {
        "colab": {
          "base_uri": "https://localhost:8080/",
          "height": 206
        },
        "id": "PhEhsAiYUqSa",
        "outputId": "c038ef6c-2ca2-4db6-d9ed-717d4d983fea"
      },
      "execution_count": 8,
      "outputs": [
        {
          "output_type": "execute_result",
          "data": {
            "text/html": [
              "\n",
              "  <div id=\"df-fed3f85b-70f1-41e8-bedd-58c6b96ddd85\">\n",
              "    <div class=\"colab-df-container\">\n",
              "      <div>\n",
              "<style scoped>\n",
              "    .dataframe tbody tr th:only-of-type {\n",
              "        vertical-align: middle;\n",
              "    }\n",
              "\n",
              "    .dataframe tbody tr th {\n",
              "        vertical-align: top;\n",
              "    }\n",
              "\n",
              "    .dataframe thead th {\n",
              "        text-align: right;\n",
              "    }\n",
              "</style>\n",
              "<table border=\"1\" class=\"dataframe\">\n",
              "  <thead>\n",
              "    <tr style=\"text-align: right;\">\n",
              "      <th></th>\n",
              "      <th>overall</th>\n",
              "      <th>aircraft</th>\n",
              "      <th>traveller_type</th>\n",
              "      <th>cabin</th>\n",
              "      <th>seat_comfort</th>\n",
              "      <th>cabin_service</th>\n",
              "      <th>food_bev</th>\n",
              "      <th>entertainment</th>\n",
              "      <th>ground_service</th>\n",
              "      <th>value_for_money</th>\n",
              "      <th>recommended</th>\n",
              "    </tr>\n",
              "  </thead>\n",
              "  <tbody>\n",
              "    <tr>\n",
              "      <th>1</th>\n",
              "      <td>7.0</td>\n",
              "      <td>NaN</td>\n",
              "      <td>Business</td>\n",
              "      <td>Economy Class</td>\n",
              "      <td>4.0</td>\n",
              "      <td>5.0</td>\n",
              "      <td>4.0</td>\n",
              "      <td>4.0</td>\n",
              "      <td>2.0</td>\n",
              "      <td>4.0</td>\n",
              "      <td>yes</td>\n",
              "    </tr>\n",
              "    <tr>\n",
              "      <th>3</th>\n",
              "      <td>2.0</td>\n",
              "      <td>NaN</td>\n",
              "      <td>Family Leisure</td>\n",
              "      <td>Economy Class</td>\n",
              "      <td>4.0</td>\n",
              "      <td>1.0</td>\n",
              "      <td>1.0</td>\n",
              "      <td>1.0</td>\n",
              "      <td>1.0</td>\n",
              "      <td>1.0</td>\n",
              "      <td>no</td>\n",
              "    </tr>\n",
              "    <tr>\n",
              "      <th>5</th>\n",
              "      <td>3.0</td>\n",
              "      <td>NaN</td>\n",
              "      <td>Business</td>\n",
              "      <td>Economy Class</td>\n",
              "      <td>1.0</td>\n",
              "      <td>4.0</td>\n",
              "      <td>1.0</td>\n",
              "      <td>3.0</td>\n",
              "      <td>1.0</td>\n",
              "      <td>2.0</td>\n",
              "      <td>no</td>\n",
              "    </tr>\n",
              "    <tr>\n",
              "      <th>7</th>\n",
              "      <td>10.0</td>\n",
              "      <td>A330</td>\n",
              "      <td>Solo Leisure</td>\n",
              "      <td>Economy Class</td>\n",
              "      <td>4.0</td>\n",
              "      <td>5.0</td>\n",
              "      <td>5.0</td>\n",
              "      <td>5.0</td>\n",
              "      <td>5.0</td>\n",
              "      <td>5.0</td>\n",
              "      <td>yes</td>\n",
              "    </tr>\n",
              "    <tr>\n",
              "      <th>9</th>\n",
              "      <td>1.0</td>\n",
              "      <td>NaN</td>\n",
              "      <td>Solo Leisure</td>\n",
              "      <td>Economy Class</td>\n",
              "      <td>1.0</td>\n",
              "      <td>1.0</td>\n",
              "      <td>1.0</td>\n",
              "      <td>1.0</td>\n",
              "      <td>1.0</td>\n",
              "      <td>1.0</td>\n",
              "      <td>no</td>\n",
              "    </tr>\n",
              "  </tbody>\n",
              "</table>\n",
              "</div>\n",
              "      <button class=\"colab-df-convert\" onclick=\"convertToInteractive('df-fed3f85b-70f1-41e8-bedd-58c6b96ddd85')\"\n",
              "              title=\"Convert this dataframe to an interactive table.\"\n",
              "              style=\"display:none;\">\n",
              "        \n",
              "  <svg xmlns=\"http://www.w3.org/2000/svg\" height=\"24px\"viewBox=\"0 0 24 24\"\n",
              "       width=\"24px\">\n",
              "    <path d=\"M0 0h24v24H0V0z\" fill=\"none\"/>\n",
              "    <path d=\"M18.56 5.44l.94 2.06.94-2.06 2.06-.94-2.06-.94-.94-2.06-.94 2.06-2.06.94zm-11 1L8.5 8.5l.94-2.06 2.06-.94-2.06-.94L8.5 2.5l-.94 2.06-2.06.94zm10 10l.94 2.06.94-2.06 2.06-.94-2.06-.94-.94-2.06-.94 2.06-2.06.94z\"/><path d=\"M17.41 7.96l-1.37-1.37c-.4-.4-.92-.59-1.43-.59-.52 0-1.04.2-1.43.59L10.3 9.45l-7.72 7.72c-.78.78-.78 2.05 0 2.83L4 21.41c.39.39.9.59 1.41.59.51 0 1.02-.2 1.41-.59l7.78-7.78 2.81-2.81c.8-.78.8-2.07 0-2.86zM5.41 20L4 18.59l7.72-7.72 1.47 1.35L5.41 20z\"/>\n",
              "  </svg>\n",
              "      </button>\n",
              "      \n",
              "  <style>\n",
              "    .colab-df-container {\n",
              "      display:flex;\n",
              "      flex-wrap:wrap;\n",
              "      gap: 12px;\n",
              "    }\n",
              "\n",
              "    .colab-df-convert {\n",
              "      background-color: #E8F0FE;\n",
              "      border: none;\n",
              "      border-radius: 50%;\n",
              "      cursor: pointer;\n",
              "      display: none;\n",
              "      fill: #1967D2;\n",
              "      height: 32px;\n",
              "      padding: 0 0 0 0;\n",
              "      width: 32px;\n",
              "    }\n",
              "\n",
              "    .colab-df-convert:hover {\n",
              "      background-color: #E2EBFA;\n",
              "      box-shadow: 0px 1px 2px rgba(60, 64, 67, 0.3), 0px 1px 3px 1px rgba(60, 64, 67, 0.15);\n",
              "      fill: #174EA6;\n",
              "    }\n",
              "\n",
              "    [theme=dark] .colab-df-convert {\n",
              "      background-color: #3B4455;\n",
              "      fill: #D2E3FC;\n",
              "    }\n",
              "\n",
              "    [theme=dark] .colab-df-convert:hover {\n",
              "      background-color: #434B5C;\n",
              "      box-shadow: 0px 1px 3px 1px rgba(0, 0, 0, 0.15);\n",
              "      filter: drop-shadow(0px 1px 2px rgba(0, 0, 0, 0.3));\n",
              "      fill: #FFFFFF;\n",
              "    }\n",
              "  </style>\n",
              "\n",
              "      <script>\n",
              "        const buttonEl =\n",
              "          document.querySelector('#df-fed3f85b-70f1-41e8-bedd-58c6b96ddd85 button.colab-df-convert');\n",
              "        buttonEl.style.display =\n",
              "          google.colab.kernel.accessAllowed ? 'block' : 'none';\n",
              "\n",
              "        async function convertToInteractive(key) {\n",
              "          const element = document.querySelector('#df-fed3f85b-70f1-41e8-bedd-58c6b96ddd85');\n",
              "          const dataTable =\n",
              "            await google.colab.kernel.invokeFunction('convertToInteractive',\n",
              "                                                     [key], {});\n",
              "          if (!dataTable) return;\n",
              "\n",
              "          const docLinkHtml = 'Like what you see? Visit the ' +\n",
              "            '<a target=\"_blank\" href=https://colab.research.google.com/notebooks/data_table.ipynb>data table notebook</a>'\n",
              "            + ' to learn more about interactive tables.';\n",
              "          element.innerHTML = '';\n",
              "          dataTable['output_type'] = 'display_data';\n",
              "          await google.colab.output.renderOutput(dataTable, element);\n",
              "          const docLink = document.createElement('div');\n",
              "          docLink.innerHTML = docLinkHtml;\n",
              "          element.appendChild(docLink);\n",
              "        }\n",
              "      </script>\n",
              "    </div>\n",
              "  </div>\n",
              "  "
            ],
            "text/plain": [
              "   overall aircraft  ... value_for_money recommended\n",
              "1      7.0      NaN  ...             4.0         yes\n",
              "3      2.0      NaN  ...             1.0          no\n",
              "5      3.0      NaN  ...             2.0          no\n",
              "7     10.0     A330  ...             5.0         yes\n",
              "9      1.0      NaN  ...             1.0          no\n",
              "\n",
              "[5 rows x 11 columns]"
            ]
          },
          "metadata": {},
          "execution_count": 8
        }
      ]
    },
    {
      "cell_type": "markdown",
      "source": [
        "\n",
        "\n",
        "1.   Dropping __Airline&Author__ Column from the Data.Because those data does not related to my problem usecase.\n",
        "2.   Dropping __Review_Date,Route,date_flown__ Column from the Data.It does not need for building a model.\n",
        "3.   Dropping  __Customer_review__ from the Data. It is related to overall review from my datasets. \n"
      ],
      "metadata": {
        "id": "SbWPqWE3PKiy"
      }
    },
    {
      "cell_type": "code",
      "source": [
        "#Percentage of null values \n",
        "airline_df.isnull().sum()/len(airline_df)*100"
      ],
      "metadata": {
        "colab": {
          "base_uri": "https://localhost:8080/"
        },
        "id": "yO-9aEoVUsEj",
        "outputId": "83271acb-5d05-45a1-c0ef-0c83db4418fc"
      },
      "execution_count": 9,
      "outputs": [
        {
          "output_type": "execute_result",
          "data": {
            "text/plain": [
              "overall             2.926593\n",
              "aircraft           70.100232\n",
              "traveller_type     39.716742\n",
              "cabin               4.009280\n",
              "seat_comfort        7.985200\n",
              "cabin_service       7.933644\n",
              "food_bev           20.226849\n",
              "entertainment      32.987096\n",
              "ground_service     40.318741\n",
              "value_for_money     2.990280\n",
              "recommended         2.285168\n",
              "dtype: float64"
            ]
          },
          "metadata": {},
          "execution_count": 9
        }
      ]
    },
    {
      "cell_type": "code",
      "source": [
        "#Splitting the Numeric column\n",
        "\n",
        "#Col_1 datas have low percentage of null values\n",
        "col_1=['overall','seat_comfort','cabin_service','value_for_money']\n",
        "#Col_2 datas have high percentage of null values\n",
        "col_2=['food_bev','entertainment','ground_service']"
      ],
      "metadata": {
        "id": "JWU9my9jUtcz"
      },
      "execution_count": 10,
      "outputs": []
    },
    {
      "cell_type": "code",
      "source": [
        "#Imputation technique using Quantile-1 value\n",
        "def impute_by_q1_values(df,column):\n",
        "  Q1=np.percentile(np.sort(df[column].dropna()),25)\n",
        "  df[column].fillna(Q1,inplace=True)"
      ],
      "metadata": {
        "id": "QIokn09EPbPF"
      },
      "execution_count": 11,
      "outputs": []
    },
    {
      "cell_type": "code",
      "source": [
        "#Looping the null value column\n",
        "for col in col_1:\n",
        "  impute_by_q1_values(airline_df,col)"
      ],
      "metadata": {
        "id": "g6qx7UDZPcsh"
      },
      "execution_count": 12,
      "outputs": []
    },
    {
      "cell_type": "code",
      "source": [
        "#Imputation technique using Median Imputation\n",
        "def median_imputation(df,column):\n",
        "  df[column].fillna(df[column].median(),inplace=True)"
      ],
      "metadata": {
        "id": "HvRw-OqqPiqA"
      },
      "execution_count": 13,
      "outputs": []
    },
    {
      "cell_type": "code",
      "source": [
        "#Looping the null value column\n",
        "for col in col_2:\n",
        "  median_imputation(airline_df,col)"
      ],
      "metadata": {
        "id": "aXpj8x4HPkCM"
      },
      "execution_count": 14,
      "outputs": []
    },
    {
      "cell_type": "code",
      "source": [
        "#Remove Aircraft column\n",
        "airline_df.drop('aircraft',axis=1,inplace=True)"
      ],
      "metadata": {
        "id": "WJt7eHTBPloS"
      },
      "execution_count": 15,
      "outputs": []
    },
    {
      "cell_type": "code",
      "source": [
        "#Remove recommended null value row\n",
        "airline_df.dropna(subset=['recommended'],inplace=True)\n",
        "airline_df['cabin'].fillna(airline_df['cabin'].mode().values[0],inplace=True)\n",
        "airline_df['traveller_type'].fillna(method=\"ffill\",inplace=True)"
      ],
      "metadata": {
        "id": "ADcVajMfPojq"
      },
      "execution_count": 16,
      "outputs": []
    },
    {
      "cell_type": "markdown",
      "source": [
        "###EDA"
      ],
      "metadata": {
        "id": "68jQ7jewVrV7"
      }
    },
    {
      "cell_type": "markdown",
      "source": [
        "1)Which Traveller_type has more ratings?<br>\n",
        "2)Which type of Cabin has more recommendation?<br>\n",
        "3)Is it Solo Leisure worth for Money?<br>\n",
        "4)In Economy Class what is the average ratings of Food_bev and entertainment given by passenger?"
      ],
      "metadata": {
        "id": "FPkSXgZGU54k"
      }
    },
    {
      "cell_type": "markdown",
      "source": [
        "Qns-1:"
      ],
      "metadata": {
        "id": "Vp2il50-P3bR"
      }
    },
    {
      "cell_type": "code",
      "source": [
        "#setting the figure size and plotting the graph\n",
        "plt.figure(figsize=(8,6))\n",
        "sns.countplot(airline_df['traveller_type'])"
      ],
      "metadata": {
        "colab": {
          "base_uri": "https://localhost:8080/",
          "height": 407
        },
        "id": "3h8nICoKU8V0",
        "outputId": "d4e7a90e-d83c-4e4e-fa9d-c9ec191ec1a6"
      },
      "execution_count": 17,
      "outputs": [
        {
          "output_type": "execute_result",
          "data": {
            "text/plain": [
              "<matplotlib.axes._subplots.AxesSubplot at 0x7f3d27d2dd10>"
            ]
          },
          "metadata": {},
          "execution_count": 17
        },
        {
          "output_type": "display_data",
          "data": {
            "image/png": "[encoded data removed]",
            "text/plain": [
              "<Figure size 576x432 with 1 Axes>"
            ]
          },
          "metadata": {
            "needs_background": "light"
          }
        }
      ]
    },
    {
      "cell_type": "markdown",
      "source": [
        "Qns-2:"
      ],
      "metadata": {
        "id": "P9CxUZQyP8Zy"
      }
    },
    {
      "cell_type": "code",
      "source": [
        "#setting the figure size and plotting the graph\n",
        "plt.figure(figsize=(8,6))\n",
        "sns.countplot(airline_df['cabin'],hue=airline_df['recommended'])"
      ],
      "metadata": {
        "colab": {
          "base_uri": "https://localhost:8080/",
          "height": 406
        },
        "id": "Ahb4YjuVU921",
        "outputId": "57d0a326-367b-4c9d-94e5-69df2e020cd1"
      },
      "execution_count": 18,
      "outputs": [
        {
          "output_type": "execute_result",
          "data": {
            "text/plain": [
              "<matplotlib.axes._subplots.AxesSubplot at 0x7f3d16d58950>"
            ]
          },
          "metadata": {},
          "execution_count": 18
        },
        {
          "output_type": "display_data",
          "data": {
            "image/png": "[encoded data removed]",
            "text/plain": [
              "<Figure size 576x432 with 1 Axes>"
            ]
          },
          "metadata": {
            "needs_background": "light"
          }
        }
      ]
    },
    {
      "cell_type": "markdown",
      "source": [
        "Qns-3:"
      ],
      "metadata": {
        "id": "5H1O9HhWP9-T"
      }
    },
    {
      "cell_type": "code",
      "source": [
        "#setting the figure size and plotting the grap\n",
        "plt.figure(figsize=(8,6))\n",
        "sns.barplot(x=airline_df['traveller_type'],y=airline_df['value_for_money'])"
      ],
      "metadata": {
        "colab": {
          "base_uri": "https://localhost:8080/",
          "height": 407
        },
        "id": "v6ZWeyk6U_nE",
        "outputId": "faceeada-5739-48c7-b299-43303e4fdbca"
      },
      "execution_count": 19,
      "outputs": [
        {
          "output_type": "execute_result",
          "data": {
            "text/plain": [
              "<matplotlib.axes._subplots.AxesSubplot at 0x7f3d16c87f90>"
            ]
          },
          "metadata": {},
          "execution_count": 19
        },
        {
          "output_type": "display_data",
          "data": {
            "image/png": "[encoded data removed]",
            "text/plain": [
              "<Figure size 576x432 with 1 Axes>"
            ]
          },
          "metadata": {
            "needs_background": "light"
          }
        }
      ]
    },
    {
      "cell_type": "markdown",
      "source": [
        "Qns-4:"
      ],
      "metadata": {
        "id": "xoIquY9rQBOO"
      }
    },
    {
      "cell_type": "code",
      "source": [
        "#performing the grouphby method \n",
        "eda_4=airline_df.groupby('cabin')[['food_bev','entertainment']].mean().reset_index()"
      ],
      "metadata": {
        "id": "F-i39bYfVvx6"
      },
      "execution_count": 20,
      "outputs": []
    },
    {
      "cell_type": "code",
      "source": [
        "plt.rcParams['figure.figsize']=(12,9)\n",
        "eda_4.plot(x=\"cabin\", y=[\"food_bev\", \"entertainment\"], kind=\"bar\")"
      ],
      "metadata": {
        "colab": {
          "base_uri": "https://localhost:8080/",
          "height": 652
        },
        "id": "AUZHLiZSQFct",
        "outputId": "0026ae71-161e-49f8-c53a-9f91f7892669"
      },
      "execution_count": 21,
      "outputs": [
        {
          "output_type": "execute_result",
          "data": {
            "text/plain": [
              "<matplotlib.axes._subplots.AxesSubplot at 0x7f3d16efa150>"
            ]
          },
          "metadata": {},
          "execution_count": 21
        },
        {
          "output_type": "display_data",
          "data": {
            "image/png": "[encoded data removed]",
            "text/plain": [
              "<Figure size 864x648 with 1 Axes>"
            ]
          },
          "metadata": {
            "needs_background": "light"
          }
        }
      ]
    },
    {
      "cell_type": "markdown",
      "source": [
        "Check Correlation"
      ],
      "metadata": {
        "id": "clC6hcCiQOvp"
      }
    },
    {
      "cell_type": "code",
      "source": [
        "#mapping the target feature with numerical data\n",
        "airline_df['recommended']=airline_df['recommended'].map({'yes':1,'no':0})"
      ],
      "metadata": {
        "id": "gkwQqnkDQOIv"
      },
      "execution_count": 22,
      "outputs": []
    },
    {
      "cell_type": "code",
      "source": [
        "#setting the figure size and plotting the heatmap\n",
        "plt.figure(figsize=(10,7))\n",
        "sns.heatmap(airline_df.corr(),annot=True)"
      ],
      "metadata": {
        "colab": {
          "base_uri": "https://localhost:8080/",
          "height": 526
        },
        "id": "bbG5SE5FQeqK",
        "outputId": "473d270c-a0ee-4519-d65b-edf147fefb4e"
      },
      "execution_count": 23,
      "outputs": [
        {
          "output_type": "execute_result",
          "data": {
            "text/plain": [
              "<matplotlib.axes._subplots.AxesSubplot at 0x7f3d15e4b8d0>"
            ]
          },
          "metadata": {},
          "execution_count": 23
        },
        {
          "output_type": "display_data",
          "data": {
            "image/png": "[encoded data removed]",
            "text/plain": [
              "<Figure size 720x504 with 2 Axes>"
            ]
          },
          "metadata": {
            "needs_background": "light"
          }
        }
      ]
    },
    {
      "cell_type": "markdown",
      "source": [
        "Removing Multicollinearity"
      ],
      "metadata": {
        "id": "wt_TUPYXQgsh"
      }
    },
    {
      "cell_type": "code",
      "source": [
        "#Creating a function to remove multicollinear\n",
        "def calc_vif(X):\n",
        " \n",
        "   # Calculating VIF\n",
        "   vif = pd.DataFrame()\n",
        "   vif[\"variables\"] = X.columns\n",
        "   vif[\"VIF\"] = [variance_inflation_factor(X.values, i) for i in range(X.shape[1])]\n",
        " \n",
        "   return(vif)"
      ],
      "metadata": {
        "id": "LqGWsMqoQgSl"
      },
      "execution_count": 24,
      "outputs": []
    },
    {
      "cell_type": "code",
      "source": [
        "calc_vif(airline_df[[i for i in airline_df.describe().columns if i not in ['recommended','value_for_money','overall']]])"
      ],
      "metadata": {
        "colab": {
          "base_uri": "https://localhost:8080/",
          "height": 206
        },
        "id": "t5b8s3rzQmxT",
        "outputId": "b0014b2b-2a84-4df4-9837-8f38f0249567"
      },
      "execution_count": 25,
      "outputs": [
        {
          "output_type": "execute_result",
          "data": {
            "text/html": [
              "\n",
              "  <div id=\"df-e52c741d-f5f0-4757-91ee-f4e8af6a4f92\">\n",
              "    <div class=\"colab-df-container\">\n",
              "      <div>\n",
              "<style scoped>\n",
              "    .dataframe tbody tr th:only-of-type {\n",
              "        vertical-align: middle;\n",
              "    }\n",
              "\n",
              "    .dataframe tbody tr th {\n",
              "        vertical-align: top;\n",
              "    }\n",
              "\n",
              "    .dataframe thead th {\n",
              "        text-align: right;\n",
              "    }\n",
              "</style>\n",
              "<table border=\"1\" class=\"dataframe\">\n",
              "  <thead>\n",
              "    <tr style=\"text-align: right;\">\n",
              "      <th></th>\n",
              "      <th>variables</th>\n",
              "      <th>VIF</th>\n",
              "    </tr>\n",
              "  </thead>\n",
              "  <tbody>\n",
              "    <tr>\n",
              "      <th>0</th>\n",
              "      <td>seat_comfort</td>\n",
              "      <td>10.951034</td>\n",
              "    </tr>\n",
              "    <tr>\n",
              "      <th>1</th>\n",
              "      <td>cabin_service</td>\n",
              "      <td>13.238540</td>\n",
              "    </tr>\n",
              "    <tr>\n",
              "      <th>2</th>\n",
              "      <td>food_bev</td>\n",
              "      <td>12.842290</td>\n",
              "    </tr>\n",
              "    <tr>\n",
              "      <th>3</th>\n",
              "      <td>entertainment</td>\n",
              "      <td>9.511114</td>\n",
              "    </tr>\n",
              "    <tr>\n",
              "      <th>4</th>\n",
              "      <td>ground_service</td>\n",
              "      <td>8.115697</td>\n",
              "    </tr>\n",
              "  </tbody>\n",
              "</table>\n",
              "</div>\n",
              "      <button class=\"colab-df-convert\" onclick=\"convertToInteractive('df-e52c741d-f5f0-4757-91ee-f4e8af6a4f92')\"\n",
              "              title=\"Convert this dataframe to an interactive table.\"\n",
              "              style=\"display:none;\">\n",
              "        \n",
              "  <svg xmlns=\"http://www.w3.org/2000/svg\" height=\"24px\"viewBox=\"0 0 24 24\"\n",
              "       width=\"24px\">\n",
              "    <path d=\"M0 0h24v24H0V0z\" fill=\"none\"/>\n",
              "    <path d=\"M18.56 5.44l.94 2.06.94-2.06 2.06-.94-2.06-.94-.94-2.06-.94 2.06-2.06.94zm-11 1L8.5 8.5l.94-2.06 2.06-.94-2.06-.94L8.5 2.5l-.94 2.06-2.06.94zm10 10l.94 2.06.94-2.06 2.06-.94-2.06-.94-.94-2.06-.94 2.06-2.06.94z\"/><path d=\"M17.41 7.96l-1.37-1.37c-.4-.4-.92-.59-1.43-.59-.52 0-1.04.2-1.43.59L10.3 9.45l-7.72 7.72c-.78.78-.78 2.05 0 2.83L4 21.41c.39.39.9.59 1.41.59.51 0 1.02-.2 1.41-.59l7.78-7.78 2.81-2.81c.8-.78.8-2.07 0-2.86zM5.41 20L4 18.59l7.72-7.72 1.47 1.35L5.41 20z\"/>\n",
              "  </svg>\n",
              "      </button>\n",
              "      \n",
              "  <style>\n",
              "    .colab-df-container {\n",
              "      display:flex;\n",
              "      flex-wrap:wrap;\n",
              "      gap: 12px;\n",
              "    }\n",
              "\n",
              "    .colab-df-convert {\n",
              "      background-color: #E8F0FE;\n",
              "      border: none;\n",
              "      border-radius: 50%;\n",
              "      cursor: pointer;\n",
              "      display: none;\n",
              "      fill: #1967D2;\n",
              "      height: 32px;\n",
              "      padding: 0 0 0 0;\n",
              "      width: 32px;\n",
              "    }\n",
              "\n",
              "    .colab-df-convert:hover {\n",
              "      background-color: #E2EBFA;\n",
              "      box-shadow: 0px 1px 2px rgba(60, 64, 67, 0.3), 0px 1px 3px 1px rgba(60, 64, 67, 0.15);\n",
              "      fill: #174EA6;\n",
              "    }\n",
              "\n",
              "    [theme=dark] .colab-df-convert {\n",
              "      background-color: #3B4455;\n",
              "      fill: #D2E3FC;\n",
              "    }\n",
              "\n",
              "    [theme=dark] .colab-df-convert:hover {\n",
              "      background-color: #434B5C;\n",
              "      box-shadow: 0px 1px 3px 1px rgba(0, 0, 0, 0.15);\n",
              "      filter: drop-shadow(0px 1px 2px rgba(0, 0, 0, 0.3));\n",
              "      fill: #FFFFFF;\n",
              "    }\n",
              "  </style>\n",
              "\n",
              "      <script>\n",
              "        const buttonEl =\n",
              "          document.querySelector('#df-e52c741d-f5f0-4757-91ee-f4e8af6a4f92 button.colab-df-convert');\n",
              "        buttonEl.style.display =\n",
              "          google.colab.kernel.accessAllowed ? 'block' : 'none';\n",
              "\n",
              "        async function convertToInteractive(key) {\n",
              "          const element = document.querySelector('#df-e52c741d-f5f0-4757-91ee-f4e8af6a4f92');\n",
              "          const dataTable =\n",
              "            await google.colab.kernel.invokeFunction('convertToInteractive',\n",
              "                                                     [key], {});\n",
              "          if (!dataTable) return;\n",
              "\n",
              "          const docLinkHtml = 'Like what you see? Visit the ' +\n",
              "            '<a target=\"_blank\" href=https://colab.research.google.com/notebooks/data_table.ipynb>data table notebook</a>'\n",
              "            + ' to learn more about interactive tables.';\n",
              "          element.innerHTML = '';\n",
              "          dataTable['output_type'] = 'display_data';\n",
              "          await google.colab.output.renderOutput(dataTable, element);\n",
              "          const docLink = document.createElement('div');\n",
              "          docLink.innerHTML = docLinkHtml;\n",
              "          element.appendChild(docLink);\n",
              "        }\n",
              "      </script>\n",
              "    </div>\n",
              "  </div>\n",
              "  "
            ],
            "text/plain": [
              "        variables        VIF\n",
              "0    seat_comfort  10.951034\n",
              "1   cabin_service  13.238540\n",
              "2        food_bev  12.842290\n",
              "3   entertainment   9.511114\n",
              "4  ground_service   8.115697"
            ]
          },
          "metadata": {},
          "execution_count": 25
        }
      ]
    },
    {
      "cell_type": "code",
      "source": [
        "#Dropping Multicollinearity features\n",
        "airline_df.drop(['value_for_money','overall'],axis=1,inplace=True)\n",
        "airline_df.head()"
      ],
      "metadata": {
        "colab": {
          "base_uri": "https://localhost:8080/",
          "height": 206
        },
        "id": "bTp3hYIMQojz",
        "outputId": "f05d46d5-5f03-4495-b5ad-0758391ece5e"
      },
      "execution_count": 26,
      "outputs": [
        {
          "output_type": "execute_result",
          "data": {
            "text/html": [
              "\n",
              "  <div id=\"df-967c713a-67c8-4ead-824e-08206caef6c1\">\n",
              "    <div class=\"colab-df-container\">\n",
              "      <div>\n",
              "<style scoped>\n",
              "    .dataframe tbody tr th:only-of-type {\n",
              "        vertical-align: middle;\n",
              "    }\n",
              "\n",
              "    .dataframe tbody tr th {\n",
              "        vertical-align: top;\n",
              "    }\n",
              "\n",
              "    .dataframe thead th {\n",
              "        text-align: right;\n",
              "    }\n",
              "</style>\n",
              "<table border=\"1\" class=\"dataframe\">\n",
              "  <thead>\n",
              "    <tr style=\"text-align: right;\">\n",
              "      <th></th>\n",
              "      <th>traveller_type</th>\n",
              "      <th>cabin</th>\n",
              "      <th>seat_comfort</th>\n",
              "      <th>cabin_service</th>\n",
              "      <th>food_bev</th>\n",
              "      <th>entertainment</th>\n",
              "      <th>ground_service</th>\n",
              "      <th>recommended</th>\n",
              "    </tr>\n",
              "  </thead>\n",
              "  <tbody>\n",
              "    <tr>\n",
              "      <th>1</th>\n",
              "      <td>Business</td>\n",
              "      <td>Economy Class</td>\n",
              "      <td>4.0</td>\n",
              "      <td>5.0</td>\n",
              "      <td>4.0</td>\n",
              "      <td>4.0</td>\n",
              "      <td>2.0</td>\n",
              "      <td>1</td>\n",
              "    </tr>\n",
              "    <tr>\n",
              "      <th>3</th>\n",
              "      <td>Family Leisure</td>\n",
              "      <td>Economy Class</td>\n",
              "      <td>4.0</td>\n",
              "      <td>1.0</td>\n",
              "      <td>1.0</td>\n",
              "      <td>1.0</td>\n",
              "      <td>1.0</td>\n",
              "      <td>0</td>\n",
              "    </tr>\n",
              "    <tr>\n",
              "      <th>5</th>\n",
              "      <td>Business</td>\n",
              "      <td>Economy Class</td>\n",
              "      <td>1.0</td>\n",
              "      <td>4.0</td>\n",
              "      <td>1.0</td>\n",
              "      <td>3.0</td>\n",
              "      <td>1.0</td>\n",
              "      <td>0</td>\n",
              "    </tr>\n",
              "    <tr>\n",
              "      <th>7</th>\n",
              "      <td>Solo Leisure</td>\n",
              "      <td>Economy Class</td>\n",
              "      <td>4.0</td>\n",
              "      <td>5.0</td>\n",
              "      <td>5.0</td>\n",
              "      <td>5.0</td>\n",
              "      <td>5.0</td>\n",
              "      <td>1</td>\n",
              "    </tr>\n",
              "    <tr>\n",
              "      <th>9</th>\n",
              "      <td>Solo Leisure</td>\n",
              "      <td>Economy Class</td>\n",
              "      <td>1.0</td>\n",
              "      <td>1.0</td>\n",
              "      <td>1.0</td>\n",
              "      <td>1.0</td>\n",
              "      <td>1.0</td>\n",
              "      <td>0</td>\n",
              "    </tr>\n",
              "  </tbody>\n",
              "</table>\n",
              "</div>\n",
              "      <button class=\"colab-df-convert\" onclick=\"convertToInteractive('df-967c713a-67c8-4ead-824e-08206caef6c1')\"\n",
              "              title=\"Convert this dataframe to an interactive table.\"\n",
              "              style=\"display:none;\">\n",
              "        \n",
              "  <svg xmlns=\"http://www.w3.org/2000/svg\" height=\"24px\"viewBox=\"0 0 24 24\"\n",
              "       width=\"24px\">\n",
              "    <path d=\"M0 0h24v24H0V0z\" fill=\"none\"/>\n",
              "    <path d=\"M18.56 5.44l.94 2.06.94-2.06 2.06-.94-2.06-.94-.94-2.06-.94 2.06-2.06.94zm-11 1L8.5 8.5l.94-2.06 2.06-.94-2.06-.94L8.5 2.5l-.94 2.06-2.06.94zm10 10l.94 2.06.94-2.06 2.06-.94-2.06-.94-.94-2.06-.94 2.06-2.06.94z\"/><path d=\"M17.41 7.96l-1.37-1.37c-.4-.4-.92-.59-1.43-.59-.52 0-1.04.2-1.43.59L10.3 9.45l-7.72 7.72c-.78.78-.78 2.05 0 2.83L4 21.41c.39.39.9.59 1.41.59.51 0 1.02-.2 1.41-.59l7.78-7.78 2.81-2.81c.8-.78.8-2.07 0-2.86zM5.41 20L4 18.59l7.72-7.72 1.47 1.35L5.41 20z\"/>\n",
              "  </svg>\n",
              "      </button>\n",
              "      \n",
              "  <style>\n",
              "    .colab-df-container {\n",
              "      display:flex;\n",
              "      flex-wrap:wrap;\n",
              "      gap: 12px;\n",
              "    }\n",
              "\n",
              "    .colab-df-convert {\n",
              "      background-color: #E8F0FE;\n",
              "      border: none;\n",
              "      border-radius: 50%;\n",
              "      cursor: pointer;\n",
              "      display: none;\n",
              "      fill: #1967D2;\n",
              "      height: 32px;\n",
              "      padding: 0 0 0 0;\n",
              "      width: 32px;\n",
              "    }\n",
              "\n",
              "    .colab-df-convert:hover {\n",
              "      background-color: #E2EBFA;\n",
              "      box-shadow: 0px 1px 2px rgba(60, 64, 67, 0.3), 0px 1px 3px 1px rgba(60, 64, 67, 0.15);\n",
              "      fill: #174EA6;\n",
              "    }\n",
              "\n",
              "    [theme=dark] .colab-df-convert {\n",
              "      background-color: #3B4455;\n",
              "      fill: #D2E3FC;\n",
              "    }\n",
              "\n",
              "    [theme=dark] .colab-df-convert:hover {\n",
              "      background-color: #434B5C;\n",
              "      box-shadow: 0px 1px 3px 1px rgba(0, 0, 0, 0.15);\n",
              "      filter: drop-shadow(0px 1px 2px rgba(0, 0, 0, 0.3));\n",
              "      fill: #FFFFFF;\n",
              "    }\n",
              "  </style>\n",
              "\n",
              "      <script>\n",
              "        const buttonEl =\n",
              "          document.querySelector('#df-967c713a-67c8-4ead-824e-08206caef6c1 button.colab-df-convert');\n",
              "        buttonEl.style.display =\n",
              "          google.colab.kernel.accessAllowed ? 'block' : 'none';\n",
              "\n",
              "        async function convertToInteractive(key) {\n",
              "          const element = document.querySelector('#df-967c713a-67c8-4ead-824e-08206caef6c1');\n",
              "          const dataTable =\n",
              "            await google.colab.kernel.invokeFunction('convertToInteractive',\n",
              "                                                     [key], {});\n",
              "          if (!dataTable) return;\n",
              "\n",
              "          const docLinkHtml = 'Like what you see? Visit the ' +\n",
              "            '<a target=\"_blank\" href=https://colab.research.google.com/notebooks/data_table.ipynb>data table notebook</a>'\n",
              "            + ' to learn more about interactive tables.';\n",
              "          element.innerHTML = '';\n",
              "          dataTable['output_type'] = 'display_data';\n",
              "          await google.colab.output.renderOutput(dataTable, element);\n",
              "          const docLink = document.createElement('div');\n",
              "          docLink.innerHTML = docLinkHtml;\n",
              "          element.appendChild(docLink);\n",
              "        }\n",
              "      </script>\n",
              "    </div>\n",
              "  </div>\n",
              "  "
            ],
            "text/plain": [
              "   traveller_type          cabin  ...  ground_service  recommended\n",
              "1        Business  Economy Class  ...             2.0            1\n",
              "3  Family Leisure  Economy Class  ...             1.0            0\n",
              "5        Business  Economy Class  ...             1.0            0\n",
              "7    Solo Leisure  Economy Class  ...             5.0            1\n",
              "9    Solo Leisure  Economy Class  ...             1.0            0\n",
              "\n",
              "[5 rows x 8 columns]"
            ]
          },
          "metadata": {},
          "execution_count": 26
        }
      ]
    },
    {
      "cell_type": "markdown",
      "source": [
        "Model Building"
      ],
      "metadata": {
        "id": "7I_GImeZQrdS"
      }
    },
    {
      "cell_type": "code",
      "source": [
        "#Creating a copy of our dataframe\n",
        "data=airline_df.copy()"
      ],
      "metadata": {
        "id": "9CqTTovlQqm7"
      },
      "execution_count": 27,
      "outputs": []
    },
    {
      "cell_type": "code",
      "source": [
        "#Performing One hot encoding\n",
        "traveller_type =pd.get_dummies(data['traveller_type'],drop_first=True)\n",
        "data=pd.concat([data,traveller_type],axis='columns')\n",
        "cabin =pd.get_dummies(data['cabin'],drop_first=True)\n",
        "data=pd.concat([data,cabin],axis='columns')\n",
        "data.drop(['traveller_type','cabin'],axis=1,inplace=True)"
      ],
      "metadata": {
        "id": "R7MZJxtKQvS0"
      },
      "execution_count": 28,
      "outputs": []
    },
    {
      "cell_type": "code",
      "source": [
        "X=data.drop('recommended',axis=1)\n",
        "Y=data['recommended']"
      ],
      "metadata": {
        "id": "BYxOl7e6QxK1"
      },
      "execution_count": 29,
      "outputs": []
    },
    {
      "cell_type": "code",
      "source": [
        "#train and test split\n",
        "X_train, X_test, y_train, y_test = train_test_split( X,Y , test_size = 0.2, random_state = 42) "
      ],
      "metadata": {
        "id": "HEG5TbtHQzMN"
      },
      "execution_count": 30,
      "outputs": []
    },
    {
      "cell_type": "markdown",
      "source": [
        "Random Forest Model"
      ],
      "metadata": {
        "id": "q80CBEJTQ5fL"
      }
    },
    {
      "cell_type": "code",
      "source": [
        "#Starting time for Execution\n",
        "start_time = time.time()\n",
        "\n",
        "#Initializing Random Forest Model object\n",
        "rand_forest_class = RandomForestClassifier()\n",
        "\n",
        "#setting the parameters and scoring metric\n",
        "scoring_rf=['f1','accuracy','roc_auc']\n",
        "grid_values = {'n_estimators':[60, 80,100], 'max_depth':[5, 7],\"min_samples_split\":[3,5],\"min_samples_leaf\":[2,3]}\n",
        "\n",
        "#performing hyperparameter tuning using gridsearchcv\n",
        "\n",
        "#setting an estimator,and crossvalidation\n",
        "rand_forest_class = GridSearchCV(estimator=rand_forest_class, param_grid = grid_values, scoring = scoring_rf, cv=3,refit='roc_auc')\n",
        "\n",
        "#Fitting x and y to gridsearchcv model using an estimator Random Forest Classifier\n",
        "rand_forest_class.fit(X_train, y_train)\n",
        "\n",
        "#Ending time for Execution\n",
        "elapsed_time_secs = time.time() - start_time\n",
        "\n",
        "msg = \"Execution time for performing Hyperparameter tuning on Random Forest: %s Minutes \" % timedelta(seconds=round(elapsed_time_secs))\n",
        "print(msg)   "
      ],
      "metadata": {
        "colab": {
          "base_uri": "https://localhost:8080/"
        },
        "id": "ADbC4WzhQ48s",
        "outputId": "36f6073f-694c-41bb-8480-645e927da53d"
      },
      "execution_count": 31,
      "outputs": [
        {
          "output_type": "stream",
          "name": "stdout",
          "text": [
            "Execution time for performing Hyperparameter tuning on Random Forest: 0:01:37 Minutes \n"
          ]
        }
      ]
    },
    {
      "cell_type": "code",
      "source": [
        "#calling and best parameter\n",
        "rand_forest_class.best_params_"
      ],
      "metadata": {
        "colab": {
          "base_uri": "https://localhost:8080/"
        },
        "id": "DPB-QQl2RBz-",
        "outputId": "d525fe66-d6e7-433c-c943-649b421d8fd8"
      },
      "execution_count": 32,
      "outputs": [
        {
          "output_type": "execute_result",
          "data": {
            "text/plain": [
              "{'max_depth': 7,\n",
              " 'min_samples_leaf': 2,\n",
              " 'min_samples_split': 5,\n",
              " 'n_estimators': 100}"
            ]
          },
          "metadata": {},
          "execution_count": 32
        }
      ]
    },
    {
      "cell_type": "code",
      "source": [
        "#Fitting an best parameters to Random Forest Classifier Model\n",
        "random_forest_after_hyper_param_tune=rand_forest_class.best_estimator_\n",
        "random_forest_after_hyper_param_tune.fit(X_train, y_train)"
      ],
      "metadata": {
        "colab": {
          "base_uri": "https://localhost:8080/"
        },
        "id": "r3kUFa75RDy2",
        "outputId": "658de95c-187f-407b-8325-3fe825ad6165"
      },
      "execution_count": 33,
      "outputs": [
        {
          "output_type": "execute_result",
          "data": {
            "text/plain": [
              "RandomForestClassifier(max_depth=7, min_samples_leaf=2, min_samples_split=5)"
            ]
          },
          "metadata": {},
          "execution_count": 33
        }
      ]
    },
    {
      "cell_type": "markdown",
      "source": [
        "Gradient Boosting Model Build"
      ],
      "metadata": {
        "id": "k4yz-FuRSF5e"
      }
    },
    {
      "cell_type": "code",
      "source": [
        "#Starting time for Execution\n",
        "start_time = time.time()\n",
        "\n",
        "#Initializing Gradient Boosting Model object\n",
        "grad_boost_class = GradientBoostingClassifier()\n",
        "\n",
        "#setting the parameters and scoring metric\n",
        "scoring_rf=['f1','accuracy','roc_auc']\n",
        "grid_values = {'n_estimators':[80,100], 'max_depth':[5, 7],\"min_samples_split\":[3,5],\"min_samples_leaf\":[2,3]}\n",
        "\n",
        "#performing hyperparameter tuning using gridsearchcv\n",
        "\n",
        "#setting an estimator,and crossvalidation\n",
        "grad_boost_class = GridSearchCV(estimator=grad_boost_class, param_grid = grid_values, scoring = scoring_rf, cv=3,refit='roc_auc')\n",
        "\n",
        "#Fitting x and y to gridsearchcv model using an estimator Gradient Boosting\n",
        "grad_boost_class.fit(X_train, y_train)\n",
        "\n",
        "#Ending time for Execution\n",
        "elapsed_time_secs = time.time() - start_time\n",
        "\n",
        "msg = \"Execution time for performing Hyperparameter tuning on Gradient Boosting: %s Minutes \" % timedelta(seconds=round(elapsed_time_secs))\n",
        "print(msg)   "
      ],
      "metadata": {
        "colab": {
          "base_uri": "https://localhost:8080/"
        },
        "id": "ESBejl7DSFa5",
        "outputId": "e7b5493f-d968-4918-a082-16a9488f79e3"
      },
      "execution_count": 34,
      "outputs": [
        {
          "output_type": "stream",
          "name": "stdout",
          "text": [
            "Execution time for performing Hyperparameter tuning on Gradient Boosting: 0:02:59 Minutes \n"
          ]
        }
      ]
    },
    {
      "cell_type": "code",
      "source": [
        "#calling and best parameters\n",
        "grad_boost_class.best_params_"
      ],
      "metadata": {
        "colab": {
          "base_uri": "https://localhost:8080/"
        },
        "id": "NoQyI5nqSPdd",
        "outputId": "116ee864-e0dd-41e5-e26a-2b58e9c6cb6b"
      },
      "execution_count": 35,
      "outputs": [
        {
          "output_type": "execute_result",
          "data": {
            "text/plain": [
              "{'max_depth': 5,\n",
              " 'min_samples_leaf': 3,\n",
              " 'min_samples_split': 5,\n",
              " 'n_estimators': 80}"
            ]
          },
          "metadata": {},
          "execution_count": 35
        }
      ]
    },
    {
      "cell_type": "code",
      "source": [
        "#Fitting an best parameters to Gradient Boosting model\n",
        "grad_boost_after_hyperparm=grad_boost_class.best_estimator_\n",
        "grad_boost_after_hyperparm.fit(X_train, y_train)"
      ],
      "metadata": {
        "colab": {
          "base_uri": "https://localhost:8080/"
        },
        "id": "n7Jq3_X_SRVg",
        "outputId": "b7117bf9-9533-4005-d8d3-e97b0fd629c0"
      },
      "execution_count": 36,
      "outputs": [
        {
          "output_type": "execute_result",
          "data": {
            "text/plain": [
              "GradientBoostingClassifier(max_depth=5, min_samples_leaf=3, min_samples_split=5,\n",
              "                           n_estimators=80)"
            ]
          },
          "metadata": {},
          "execution_count": 36
        }
      ]
    },
    {
      "cell_type": "code",
      "source": [
        "#Creating a function to return all Models Accuracy Score \n",
        "\n",
        "def accuracy_of_each_model(model,X_train,X_test):\n",
        "\n",
        "  #predicting a train datas\n",
        "  y_train_preds=model.predict(X_train)\n",
        "\n",
        "  #predicting a test datas\n",
        "  y_test_preds=model.predict(X_test)\n",
        "\n",
        "  #storing all training scores\n",
        "  train_scores=[]\n",
        "\n",
        "  #storing all test scores\n",
        "  test_scores=[]\n",
        "  metrics=['Accuracy_Score','Precsion_Score','Recall_Score','Roc_Auc_Score']\n",
        "\n",
        "  # Get the accuracy scores\n",
        "  train_accuracy_score = accuracy_score(y_train,y_train_preds)\n",
        "  test_accuracy_score = accuracy_score(y_test,y_test_preds)\n",
        "  \n",
        "  train_scores.append(train_accuracy_score)\n",
        "  test_scores.append(test_accuracy_score)\n",
        "\n",
        "  # Get the precsion scores\n",
        "  train_precision_score = precision_score(y_train,y_train_preds)\n",
        "  test_precision_score = precision_score(y_test,y_test_preds)\n",
        "\n",
        "  train_scores.append(train_precision_score)\n",
        "  test_scores.append(test_precision_score)\n",
        "\n",
        "  # Get the recall scores\n",
        "  train_recall_score =recall_score(y_train,y_train_preds)\n",
        "  test_recall_score =recall_score(y_test,y_test_preds)\n",
        "\n",
        "  train_scores.append(train_recall_score)\n",
        "  test_scores.append(test_recall_score)\n",
        "\n",
        "  # Get the roc_auc scores\n",
        "  train_roc_auc_score=roc_auc_score(y_train,y_train_preds)\n",
        "  test_roc_auc_score =roc_auc_score(y_test,y_test_preds)\n",
        "\n",
        "  train_scores.append(train_roc_auc_score)\n",
        "  test_scores.append(test_roc_auc_score)\n",
        "\n",
        "  return train_scores,test_scores,metrics"
      ],
      "metadata": {
        "id": "GnJVNnOKRJLS"
      },
      "execution_count": 37,
      "outputs": []
    },
    {
      "cell_type": "code",
      "source": [
        "models=[random_forest_after_hyper_param_tune,grad_boost_after_hyperparm]\n",
        "name=['Random Forest Model After Hyperparameter Tuning','Gradient Boosting Model After Hyperparameter Tuning']"
      ],
      "metadata": {
        "id": "DTleIo19RKza"
      },
      "execution_count": 38,
      "outputs": []
    },
    {
      "cell_type": "code",
      "source": [
        "for model_ in range(len(models)):\n",
        "  train_score_,test_score_,metrics_=accuracy_of_each_model(models[model_],X_train,X_test)\n",
        "  print(\"-*-*-\"*3+f\"{name[model_]}\"+\"-*-*-\"*4)\n",
        "  print(\"\")\n",
        "  print(pd.DataFrame(data={'Metrics':metrics_,'Train_Score':train_score_,'Test_Score':test_score_}))\n",
        "  print(\"\")"
      ],
      "metadata": {
        "colab": {
          "base_uri": "https://localhost:8080/"
        },
        "id": "EmQaO36rRMm6",
        "outputId": "33b0a458-50af-4a4c-d78f-87ea5d99929c"
      },
      "execution_count": 39,
      "outputs": [
        {
          "output_type": "stream",
          "name": "stdout",
          "text": [
            "-*-*--*-*--*-*-Random Forest Model After Hyperparameter Tuning-*-*--*-*--*-*--*-*-\n",
            "\n",
            "          Metrics  Train_Score  Test_Score\n",
            "0  Accuracy_Score     0.900702    0.900683\n",
            "1  Precsion_Score     0.923849    0.922059\n",
            "2    Recall_Score     0.862533    0.859380\n",
            "3   Roc_Auc_Score     0.898961    0.898032\n",
            "\n",
            "-*-*--*-*--*-*-Gradient Boosting Model After Hyperparameter Tuning-*-*--*-*--*-*--*-*-\n",
            "\n",
            "          Metrics  Train_Score  Test_Score\n",
            "0  Accuracy_Score     0.906522    0.904718\n",
            "1  Precsion_Score     0.919235    0.914986\n",
            "2    Recall_Score     0.881071    0.876874\n",
            "3   Roc_Auc_Score     0.905361    0.902930\n",
            "\n"
          ]
        }
      ]
    },
    {
      "cell_type": "markdown",
      "source": [
        "Confusion Matrix plot"
      ],
      "metadata": {
        "id": "oKprqgPSh85m"
      }
    },
    {
      "cell_type": "code",
      "source": [
        "from sklearn.metrics import confusion_matrix\n",
        "name1=['Random Forest Model Confusion Matrix','Gradient Boosting Model Confusion Matrix']"
      ],
      "metadata": {
        "id": "0kqgLRB9iAoH"
      },
      "execution_count": 40,
      "outputs": []
    },
    {
      "cell_type": "code",
      "source": [
        "#Setting subplots\n",
        "for model_ in range(len(models)):\n",
        "\n",
        "  fig, ax =plt.subplots(1,2,figsize=(24,6))\n",
        "  if model_==0:\n",
        "    fig.suptitle('Confusion Matrix for Training and Testing Data of all Models')\n",
        "  else:pass\n",
        "  y_pred_train = models[model_].predict(X_train)\n",
        "  y_pred_test = models[model_].predict(X_test)\n",
        "\n",
        "  dat1_train= confusion_matrix(y_train, y_pred_train)\n",
        "  dat2_test = confusion_matrix(y_test, y_pred_test)\n",
        "\n",
        "  df_cm1 = pd.DataFrame(dat1_train, columns=np.unique(y_train), index = np.unique(y_train))\n",
        "  df_cm2 = pd.DataFrame(dat2_test, columns=np.unique(y_test), index = np.unique(y_test))\n",
        "\n",
        "  df_cm1.index.name = 'Actual'\n",
        "  df_cm1.columns.name = 'Predicted'\n",
        "  #sns.set(font_scale=1.4)#for label size\n",
        "  df_cm2.index.name = 'Actual'\n",
        "  df_cm2.columns.name = 'Predicted'\n",
        "\n",
        "  a=sns.heatmap(df_cm1, cmap=\"inferno_r\", annot=True,annot_kws={\"size\": 12},fmt='.2f',ax=ax[0])\n",
        "  a.set(title=name1[model_]+' of Training Data')\n",
        "  print(\"\")\n",
        "  b=sns.heatmap(df_cm2, cmap=\"inferno_r\", annot=True,annot_kws={\"size\": 12},fmt='.2f',ax=ax[1])\n",
        "  b.set(title=name1[model_]+' of Testing Data')\n",
        "  print(\"\")\n",
        "  fig.savefig('imagename'+str(model_)+'.png')\n",
        "  fig.show()"
      ],
      "metadata": {
        "id": "VCi5DDcOSZ50",
        "colab": {
          "base_uri": "https://localhost:8080/",
          "height": 836
        },
        "outputId": "bb668dbf-d5fa-49a0-99ee-71286ddd60b8"
      },
      "execution_count": 41,
      "outputs": [
        {
          "output_type": "stream",
          "name": "stdout",
          "text": [
            "\n",
            "\n",
            "\n",
            "\n"
          ]
        },
        {
          "output_type": "display_data",
          "data": {
            "image/png": "[encoded data removed]",
            "text/plain": [
              "<Figure size 1728x432 with 4 Axes>"
            ]
          },
          "metadata": {
            "needs_background": "light"
          }
        },
        {
          "output_type": "display_data",
          "data": {
            "image/png": "[encoded data removed]",
            "text/plain": [
              "<Figure size 1728x432 with 4 Axes>"
            ]
          },
          "metadata": {
            "needs_background": "light"
          }
        }
      ]
    },
    {
      "cell_type": "code",
      "source": [
        "import joblib"
      ],
      "metadata": {
        "id": "xUTYEBpmiF-I"
      },
      "execution_count": null,
      "outputs": []
    },
    {
      "cell_type": "code",
      "source": [
        "model_name=[\"rand_forest_tuned\",\"grad_boost_tuned\"]"
      ],
      "metadata": {
        "id": "h-mDZMyIiHio"
      },
      "execution_count": null,
      "outputs": []
    },
    {
      "cell_type": "code",
      "source": [
        "for model_ in range(len(models)):\n",
        "  #Creating a File path to save a Model\n",
        "  joblib_file =model_name[model_]+\".pkl\"\n",
        "  # Save the trained model\n",
        "  joblib.dump(models[model_], joblib_file)"
      ],
      "metadata": {
        "id": "SOUYnWLJiMNg"
      },
      "execution_count": null,
      "outputs": []
    },
    {
      "cell_type": "code",
      "source": [
        " !pip install lime"
      ],
      "metadata": {
        "id": "LFEclXNbiOBh"
      },
      "execution_count": null,
      "outputs": []
    },
    {
      "cell_type": "markdown",
      "source": [
        "Lime Implement"
      ],
      "metadata": {
        "id": "fU4wO_qOizzy"
      }
    },
    {
      "cell_type": "code",
      "source": [
        "# LIME Interpretation part\n",
        "import lime\n",
        "import lime.lime_tabular\n",
        "from __future__ import print_function"
      ],
      "metadata": {
        "id": "H-ISyITbiQiI"
      },
      "execution_count": null,
      "outputs": []
    },
    {
      "cell_type": "code",
      "source": [
        "predict_fn_logreg = lambda x: models[0].predict_proba(x).astype(float)\n",
        "predict_fn_tree= lambda x: models[1].predict_proba(x).astype(float)\n",
        "predict_fn_rf = lambda x: models[2].predict_proba(x).astype(float)\n",
        "predict_fn_gb = lambda x: models[3].predict_proba(x).astype(float)"
      ],
      "metadata": {
        "id": "fOwagkKlih1o"
      },
      "execution_count": null,
      "outputs": []
    },
    {
      "cell_type": "code",
      "source": [
        "# Drop unwanted columns\n",
        "train_df = airline_df.drop('recommended',axis=1)"
      ],
      "metadata": {
        "id": "Ot4vYXXTijqY"
      },
      "execution_count": null,
      "outputs": []
    },
    {
      "cell_type": "code",
      "source": [
        "# Extract features\n",
        "float_columns=[]\n",
        "cat_columns=[]\n",
        "int_columns=[]"
      ],
      "metadata": {
        "id": "4B3kGmzPilDQ"
      },
      "execution_count": null,
      "outputs": []
    },
    {
      "cell_type": "code",
      "source": [
        "# Putting features into respective float, cat , int list.\n",
        "for i in train_df.columns:\n",
        "    if train_df[i].dtype == 'float' : \n",
        "        float_columns.append(i)\n",
        "    elif train_df[i].dtype == 'int64':\n",
        "        int_columns.append(i)\n",
        "    elif train_df[i].dtype == 'object':\n",
        "        cat_columns.append(i)"
      ],
      "metadata": {
        "id": "DrWqvt1iimcu"
      },
      "execution_count": null,
      "outputs": []
    },
    {
      "cell_type": "code",
      "source": [
        "train_cat_features = train_df[cat_columns]\n",
        "train_float_features = train_df[float_columns]"
      ],
      "metadata": {
        "id": "PwH1CGonioBN"
      },
      "execution_count": null,
      "outputs": []
    },
    {
      "cell_type": "code",
      "source": [
        "#One hot encoding\n",
        "train_cat_features_ver2 = pd.get_dummies(train_cat_features, columns=['traveller_type','cabin'],drop_first=True)\n",
        "train_cat_features_ver2.rename(columns={'traveller_type_Couple Leisure':'Couple Leisure','traveller_type_Family Leisure':'Family Leisure','traveller_type_Solo Leisure':'Solo Leisure','cabin_Economy Class':'Economy Class','cabin_First Class':'First Class','cabin_Premium Economy':'Premium Economy'},inplace=True)\n"
      ],
      "metadata": {
        "id": "WG4RNi9xipm9"
      },
      "execution_count": null,
      "outputs": []
    },
    {
      "cell_type": "code",
      "source": [
        "# Line-up the feature names\n",
        "feature_names_float = list(train_float_features)\n",
        "feature_names_cat = list(train_cat_features_ver2)\n",
        "#feature_names_int = list(train_int_features)\n",
        "feature_names = sum([feature_names_float,feature_names_cat], [])"
      ],
      "metadata": {
        "id": "GEWjA_Qvirsv"
      },
      "execution_count": null,
      "outputs": []
    },
    {
      "cell_type": "code",
      "source": [
        "#create a unseen data\n",
        "unseen_data=np.array([1, 1, 2, 2, 1, 0, 0, 1, 1, 0, 0],dtype=float)"
      ],
      "metadata": {
        "id": "MRHJF4lZitMk"
      },
      "execution_count": null,
      "outputs": []
    },
    {
      "cell_type": "code",
      "source": [
        "# Create the LIME Explainer\n",
        "explainer = lime.lime_tabular.LimeTabularExplainer(X_train.values ,feature_names = feature_names,\n",
        "                                                   class_names=['0','1'],categorical_features=cat_columns, \n",
        "                                                   categorical_names=feature_names_cat, kernel_width=3)"
      ],
      "metadata": {
        "id": "DG5N0m0sivry"
      },
      "execution_count": null,
      "outputs": []
    },
    {
      "cell_type": "code",
      "source": [
        "# Get the explanation for Random Forest\n",
        "exp = explainer.explain_instance(unseen_data, predict_fn_rf, num_features=6)\n",
        "exp.show_in_notebook(show_all=False)"
      ],
      "metadata": {
        "id": "tw9ymxB_iyVG"
      },
      "execution_count": null,
      "outputs": []
    }
  ]
}